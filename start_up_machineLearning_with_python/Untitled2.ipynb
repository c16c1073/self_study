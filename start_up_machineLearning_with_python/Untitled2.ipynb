{
 "cells": [
  {
   "cell_type": "code",
   "execution_count": 22,
   "metadata": {},
   "outputs": [
    {
     "name": "stdout",
     "output_type": "stream",
     "text": [
      "[[0. 0. 0. ... 0. 0. 0.]\n",
      " [0. 0. 0. ... 0. 0. 0.]\n",
      " [0. 0. 0. ... 0. 0. 0.]\n",
      " ...\n",
      " [0. 0. 0. ... 0. 0. 0.]\n",
      " [0. 0. 0. ... 0. 0. 0.]\n",
      " [0. 0. 0. ... 0. 0. 0.]]\n",
      "[1. 4. 0. 3. 8. 6. 7. 4. 0. 1. 4. 8. 5. 3. 7. 3. 3. 5. 5. 2. 0. 6. 0. 4.\n",
      " 0. 7. 2. 1. 7. 1. 4. 7. 4. 2. 4. 0. 4. 3. 0. 7. 2. 4. 4. 1. 6. 7. 6. 1.\n",
      " 7. 0. 8. 0. 1. 1. 1. 7. 8. 1. 2. 7. 0. 1. 1. 0. 1. 4. 6. 0. 8. 6. 4. 0.\n",
      " 0. 5. 2. 2. 1. 1. 4. 0. 4. 2. 8. 8. 6. 7. 1. 4. 1. 1. 4. 1. 3. 2. 7. 7.\n",
      " 0. 7. 8. 8.]\n",
      "0.74\n"
     ]
    }
   ],
   "source": [
    "from sklearn import datasets, model_selection, svm, metrics\n",
    "import matplotlib.pyplot as plt\n",
    "# ラベル別に分類してプロットしたい\n",
    "\n",
    "mnist = datasets.fetch_mldata('MNIST original', data_home='data/src/download/')\n",
    "\n",
    "#print(type(mnist))\n",
    "#print(mnist.keys())\n",
    "# <class 'sklearn.datasets.base.Bunch'>\n",
    "# dict_keys(['DESCR', 'COL_NAMES', 'target', 'data'])\n",
    "\n",
    "#print(mnist)\n",
    "\n",
    "DESCR=mnist.DESCR\n",
    "COL_NAMES=mnist.COL_NAMES\n",
    "label=mnist.target\n",
    "data=mnist.data/255\n",
    "#print(DESCR)\n",
    "#print(COL_NAMES)\n",
    "#print(label[1000:1010])\n",
    "#print(data)\n",
    "\n",
    "#print(label.shape)\n",
    "#print(data.shape)\n",
    "\n",
    "train_size = 500\n",
    "test_size = 100\n",
    "data_train, data_test, label_train, label_test = model_selection.train_test_split(data, label, test_size=test_size, train_size=train_size)\n",
    "\n",
    "print(data_train)\n",
    "\n",
    "clf = svm.SVC() # 分類器を作成\n",
    "clf.fit(data_train, label_train)# 学習部分\n",
    "pre = clf.predict(data_test)\n",
    "\n",
    "ac_score = metrics.accuracy_score(label_test, pre)\n",
    "\n",
    "print(pre)\n",
    "print(ac_score)\n",
    "\n",
    "\n",
    "\n"
   ]
  },
  {
   "cell_type": "code",
   "execution_count": null,
   "metadata": {},
   "outputs": [],
   "source": [
    "\n",
    "\n",
    "\n",
    "\n",
    "\n"
   ]
  },
  {
   "cell_type": "code",
   "execution_count": null,
   "metadata": {},
   "outputs": [],
   "source": []
  }
 ],
 "metadata": {
  "kernelspec": {
   "display_name": "Python 3",
   "language": "python",
   "name": "python3"
  },
  "language_info": {
   "codemirror_mode": {
    "name": "ipython",
    "version": 3
   },
   "file_extension": ".py",
   "mimetype": "text/x-python",
   "name": "python",
   "nbconvert_exporter": "python",
   "pygments_lexer": "ipython3",
   "version": "3.6.4"
  }
 },
 "nbformat": 4,
 "nbformat_minor": 2
}
